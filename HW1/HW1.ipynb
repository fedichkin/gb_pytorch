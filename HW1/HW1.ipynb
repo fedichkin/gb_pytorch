{
 "cells": [
  {
   "cell_type": "code",
   "execution_count": 1,
   "id": "ac2d74ef",
   "metadata": {},
   "outputs": [],
   "source": [
    "import torch"
   ]
  },
  {
   "cell_type": "markdown",
   "id": "574fe377",
   "metadata": {},
   "source": [
    "##### 1. Создайте случайный FloatTensor размера 3x4x5"
   ]
  },
  {
   "cell_type": "code",
   "execution_count": 2,
   "id": "a0b6cef0",
   "metadata": {},
   "outputs": [
    {
     "data": {
      "text/plain": [
       "tensor([[[0.3392, 0.4350, 0.6783, 0.0182, 0.3377],\n",
       "         [0.4237, 0.6329, 0.2125, 0.8598, 0.9005],\n",
       "         [0.4294, 0.7841, 0.3078, 0.7837, 0.0234],\n",
       "         [0.0572, 0.4959, 0.9905, 0.0697, 0.3130]],\n",
       "\n",
       "        [[0.9272, 0.2171, 0.4530, 0.4617, 0.8348],\n",
       "         [0.8475, 0.0797, 0.5335, 0.0913, 0.0329],\n",
       "         [0.4371, 0.4917, 0.2844, 0.1458, 0.3597],\n",
       "         [0.4311, 0.1816, 0.3770, 0.1448, 0.7330]],\n",
       "\n",
       "        [[0.8711, 0.3394, 0.2415, 0.8376, 0.4492],\n",
       "         [0.0092, 0.7248, 0.8933, 0.4806, 0.6944],\n",
       "         [0.1370, 0.9483, 0.0614, 0.5560, 0.1741],\n",
       "         [0.8906, 0.8691, 0.7139, 0.1770, 0.7151]]])"
      ]
     },
     "execution_count": 2,
     "metadata": {},
     "output_type": "execute_result"
    }
   ],
   "source": [
    "f = torch.rand(3, 4, 5)\n",
    "f"
   ]
  },
  {
   "cell_type": "markdown",
   "id": "f057d05c",
   "metadata": {},
   "source": [
    "##### 2. Выведите его форму (shape)"
   ]
  },
  {
   "cell_type": "code",
   "execution_count": 3,
   "id": "0c460968",
   "metadata": {},
   "outputs": [
    {
     "data": {
      "text/plain": [
       "torch.Size([3, 4, 5])"
      ]
     },
     "execution_count": 3,
     "metadata": {},
     "output_type": "execute_result"
    }
   ],
   "source": [
    "f.size()"
   ]
  },
  {
   "cell_type": "markdown",
   "id": "d85a4cb8",
   "metadata": {},
   "source": [
    "##### 3. Приведите его к форме 6х10"
   ]
  },
  {
   "cell_type": "code",
   "execution_count": 4,
   "id": "c482fbce",
   "metadata": {},
   "outputs": [
    {
     "name": "stdout",
     "output_type": "stream",
     "text": [
      "tensor([[0.3392, 0.4350, 0.6783, 0.0182, 0.3377, 0.4237, 0.6329, 0.2125, 0.8598,\n",
      "         0.9005],\n",
      "        [0.4294, 0.7841, 0.3078, 0.7837, 0.0234, 0.0572, 0.4959, 0.9905, 0.0697,\n",
      "         0.3130],\n",
      "        [0.9272, 0.2171, 0.4530, 0.4617, 0.8348, 0.8475, 0.0797, 0.5335, 0.0913,\n",
      "         0.0329],\n",
      "        [0.4371, 0.4917, 0.2844, 0.1458, 0.3597, 0.4311, 0.1816, 0.3770, 0.1448,\n",
      "         0.7330],\n",
      "        [0.8711, 0.3394, 0.2415, 0.8376, 0.4492, 0.0092, 0.7248, 0.8933, 0.4806,\n",
      "         0.6944],\n",
      "        [0.1370, 0.9483, 0.0614, 0.5560, 0.1741, 0.8906, 0.8691, 0.7139, 0.1770,\n",
      "         0.7151]])\n",
      "torch.Size([6, 10])\n"
     ]
    }
   ],
   "source": [
    "f = f.reshape(6, 10)\n",
    "\n",
    "print(f)\n",
    "print(f.size())"
   ]
  },
  {
   "cell_type": "markdown",
   "id": "eb358bee",
   "metadata": {},
   "source": [
    "##### 4. Создайте случайный IntTensor размера 10"
   ]
  },
  {
   "cell_type": "code",
   "execution_count": 5,
   "id": "cfbc563b",
   "metadata": {},
   "outputs": [
    {
     "data": {
      "text/plain": [
       "tensor([7, 7, 3, 2, 1, 8, 8, 8, 6, 8])"
      ]
     },
     "execution_count": 5,
     "metadata": {},
     "output_type": "execute_result"
    }
   ],
   "source": [
    "i = torch.randint(10,(10,))\n",
    "i"
   ]
  },
  {
   "cell_type": "markdown",
   "id": "d41e352e",
   "metadata": {},
   "source": [
    "##### 5. Умножьте созданный FloatTensor на созданный IntTensor поэлементно"
   ]
  },
  {
   "cell_type": "code",
   "execution_count": 6,
   "id": "1375c155",
   "metadata": {},
   "outputs": [
    {
     "data": {
      "text/plain": [
       "tensor([[2.3747, 3.0450, 2.0349, 0.0363, 0.3377, 3.3896, 5.0628, 1.6999, 5.1585,\n",
       "         7.2044],\n",
       "        [3.0056, 5.4887, 0.9234, 1.5674, 0.0234, 0.4577, 3.9674, 7.9241, 0.4180,\n",
       "         2.5044],\n",
       "        [6.4905, 1.5195, 1.3591, 0.9234, 0.8348, 6.7796, 0.6379, 4.2682, 0.5481,\n",
       "         0.2629],\n",
       "        [3.0595, 3.4421, 0.8532, 0.2916, 0.3597, 3.4485, 1.4532, 3.0157, 0.8687,\n",
       "         5.8636],\n",
       "        [6.0980, 2.3758, 0.7245, 1.6752, 0.4492, 0.0734, 5.7985, 7.1466, 2.8835,\n",
       "         5.5548],\n",
       "        [0.9592, 6.6384, 0.1841, 1.1120, 0.1741, 7.1246, 6.9528, 5.7115, 1.0619,\n",
       "         5.7207]])"
      ]
     },
     "execution_count": 6,
     "metadata": {},
     "output_type": "execute_result"
    }
   ],
   "source": [
    "f * i"
   ]
  },
  {
   "cell_type": "markdown",
   "id": "3ace25d2",
   "metadata": {},
   "source": [
    "##### 6. Умножьте тензор матрично на себя, чтобы результат был размерности 6x6"
   ]
  },
  {
   "cell_type": "code",
   "execution_count": 7,
   "id": "52545b93",
   "metadata": {},
   "outputs": [
    {
     "data": {
      "text/plain": [
       "tensor([[3.0541, 1.6080, 1.6375, 1.8414, 2.4647, 2.4447],\n",
       "        [1.6080, 2.8418, 1.7223, 1.5111, 2.8771, 2.6865],\n",
       "        [1.6375, 1.7223, 3.0408, 1.6267, 2.3614, 2.0074],\n",
       "        [1.8414, 1.5111, 1.6267, 1.5835, 1.9509, 2.0480],\n",
       "        [2.4647, 2.8771, 2.3614, 1.9509, 3.8723, 2.8574],\n",
       "        [2.4447, 2.6865, 2.0074, 2.0480, 2.8574, 3.8622]])"
      ]
     },
     "execution_count": 7,
     "metadata": {},
     "output_type": "execute_result"
    }
   ],
   "source": [
    "ff = torch.mm(f, f.T)\n",
    "ff"
   ]
  },
  {
   "cell_type": "code",
   "execution_count": 8,
   "id": "b0e9cc8e",
   "metadata": {},
   "outputs": [
    {
     "data": {
      "text/plain": [
       "torch.Size([6, 6])"
      ]
     },
     "execution_count": 8,
     "metadata": {},
     "output_type": "execute_result"
    }
   ],
   "source": [
    "ff.size()"
   ]
  },
  {
   "cell_type": "markdown",
   "id": "ea653827",
   "metadata": {},
   "source": [
    "##### 7. Посчитайте производную функции y = x**3 + z - 75t в точке (1, 0.5, 2)"
   ]
  },
  {
   "cell_type": "code",
   "execution_count": 9,
   "id": "9843abd4",
   "metadata": {},
   "outputs": [],
   "source": [
    "x = torch.tensor(1.0, requires_grad=True)\n",
    "z = torch.tensor(0.5, requires_grad=True)\n",
    "t = torch.tensor(2.0, requires_grad=True)"
   ]
  },
  {
   "cell_type": "code",
   "execution_count": 10,
   "id": "82b84220",
   "metadata": {},
   "outputs": [
    {
     "data": {
      "text/plain": [
       "tensor(-148.5000, grad_fn=<SubBackward0>)"
      ]
     },
     "execution_count": 10,
     "metadata": {},
     "output_type": "execute_result"
    }
   ],
   "source": [
    "y = x**3 + z - 75*t\n",
    "y"
   ]
  },
  {
   "cell_type": "code",
   "execution_count": 11,
   "id": "5d4a56c7",
   "metadata": {},
   "outputs": [],
   "source": [
    "y.backward()"
   ]
  },
  {
   "cell_type": "code",
   "execution_count": 12,
   "id": "58829098",
   "metadata": {},
   "outputs": [
    {
     "data": {
      "text/plain": [
       "tensor(3.)"
      ]
     },
     "execution_count": 12,
     "metadata": {},
     "output_type": "execute_result"
    }
   ],
   "source": [
    "x.grad"
   ]
  },
  {
   "cell_type": "code",
   "execution_count": 13,
   "id": "12df3e00",
   "metadata": {},
   "outputs": [
    {
     "data": {
      "text/plain": [
       "tensor(1.)"
      ]
     },
     "execution_count": 13,
     "metadata": {},
     "output_type": "execute_result"
    }
   ],
   "source": [
    "z.grad"
   ]
  },
  {
   "cell_type": "code",
   "execution_count": 14,
   "id": "5aa74cbb",
   "metadata": {},
   "outputs": [
    {
     "data": {
      "text/plain": [
       "tensor(-75.)"
      ]
     },
     "execution_count": 14,
     "metadata": {},
     "output_type": "execute_result"
    }
   ],
   "source": [
    "t.grad"
   ]
  },
  {
   "cell_type": "markdown",
   "id": "345969de",
   "metadata": {},
   "source": [
    "##### 8. Создайте единичный тензор размера 5x6"
   ]
  },
  {
   "cell_type": "code",
   "execution_count": 15,
   "id": "f0b654f8",
   "metadata": {},
   "outputs": [
    {
     "data": {
      "text/plain": [
       "tensor([[1., 1., 1., 1., 1., 1.],\n",
       "        [1., 1., 1., 1., 1., 1.],\n",
       "        [1., 1., 1., 1., 1., 1.],\n",
       "        [1., 1., 1., 1., 1., 1.],\n",
       "        [1., 1., 1., 1., 1., 1.]])"
      ]
     },
     "execution_count": 15,
     "metadata": {},
     "output_type": "execute_result"
    }
   ],
   "source": [
    "o = torch.ones((5, 6))\n",
    "o"
   ]
  },
  {
   "cell_type": "markdown",
   "id": "82b5f33f",
   "metadata": {},
   "source": [
    "##### 9. Переведите его в формат numpy"
   ]
  },
  {
   "cell_type": "code",
   "execution_count": 16,
   "id": "b02d517d",
   "metadata": {},
   "outputs": [
    {
     "data": {
      "text/plain": [
       "array([[1., 1., 1., 1., 1., 1.],\n",
       "       [1., 1., 1., 1., 1., 1.],\n",
       "       [1., 1., 1., 1., 1., 1.],\n",
       "       [1., 1., 1., 1., 1., 1.],\n",
       "       [1., 1., 1., 1., 1., 1.]], dtype=float32)"
      ]
     },
     "execution_count": 16,
     "metadata": {},
     "output_type": "execute_result"
    }
   ],
   "source": [
    "o.numpy()"
   ]
  }
 ],
 "metadata": {
  "kernelspec": {
   "display_name": "Python 3 (ipykernel)",
   "language": "python",
   "name": "python3"
  },
  "language_info": {
   "codemirror_mode": {
    "name": "ipython",
    "version": 3
   },
   "file_extension": ".py",
   "mimetype": "text/x-python",
   "name": "python",
   "nbconvert_exporter": "python",
   "pygments_lexer": "ipython3",
   "version": "3.9.7"
  }
 },
 "nbformat": 4,
 "nbformat_minor": 5
}
